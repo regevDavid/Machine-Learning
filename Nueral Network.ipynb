{
  "nbformat": 4,
  "nbformat_minor": 0,
  "metadata": {
    "colab": {
      "name": "ex4.ipynb",
      "provenance": [],
      "collapsed_sections": [],
      "include_colab_link": true
    },
    "kernelspec": {
      "name": "python3",
      "display_name": "Python 3"
    }
  },
  "cells": [
    {
      "cell_type": "markdown",
      "metadata": {
        "id": "view-in-github",
        "colab_type": "text"
      },
      "source": [
        "<a href=\"https://colab.research.google.com/github/regevDavid/Machine-Learning/blob/master/Nueral%20Network.ipynb\" target=\"_parent\"><img src=\"https://colab.research.google.com/assets/colab-badge.svg\" alt=\"Open In Colab\"/></a>"
      ]
    },
    {
      "cell_type": "code",
      "metadata": {
        "id": "-ChI_AZ6JHVe",
        "colab_type": "code",
        "colab": {}
      },
      "source": [
        "!pip install torch\n",
        "!pip install soundfile\n",
        "!pip install librosa\n",
        "!git clone https://github.com/orsanawwad/ML4_dataset.git"
      ],
      "execution_count": 0,
      "outputs": []
    },
    {
      "cell_type": "code",
      "metadata": {
        "id": "paQhU9yImrjo",
        "colab_type": "code",
        "outputId": "a9c4e2b8-57c6-4b6f-a2b4-3d342f3acd35",
        "colab": {
          "base_uri": "https://localhost:8080/",
          "height": 34
        }
      },
      "source": [
        "!python gcommand_loader.py"
      ],
      "execution_count": 0,
      "outputs": [
        {
          "output_type": "stream",
          "text": [
            "python3: can't open file 'gcommand_loader.py': [Errno 2] No such file or directory\n"
          ],
          "name": "stdout"
        }
      ]
    },
    {
      "cell_type": "code",
      "metadata": {
        "id": "qrOmMXriJSU7",
        "colab_type": "code",
        "colab": {}
      },
      "source": [
        "from gcommand_loader import GCommandLoader\n",
        "from torch.autograd import Variable\n",
        "import torch.nn as nn\n",
        "import torch.nn.functional as F\n",
        "import torch.optim as optim\n",
        "from gcommand_loader import GCommandLoader\n",
        "import torch\n",
        "import numpy as np"
      ],
      "execution_count": 0,
      "outputs": []
    },
    {
      "cell_type": "code",
      "metadata": {
        "id": "2ElVxdhvvr72",
        "colab_type": "code",
        "colab": {}
      },
      "source": [
        "class Network(nn.Module):\n",
        "    def __init__(self):\n",
        "        super(Network, self).__init__()\n",
        "        self._conv1 = nn.Conv2d(in_channels=1, out_channels=20, kernel_size=5, stride=1, padding=2)\n",
        "        self._conv2 = nn.Conv2d(in_channels=20, out_channels=50, kernel_size=5, stride=1, padding=2)\n",
        "        self._conv3 = nn.Conv2d(in_channels=50, out_channels=100, kernel_size=5, stride=1, padding=2)\n",
        "        self._conv4 = nn.Conv2d(in_channels=100, out_channels=200, kernel_size=5, stride=1, padding=2)\n",
        "        self._conv5 = nn.Conv2d(in_channels=200, out_channels=400, kernel_size=5, stride=1, padding=2)\n",
        "\n",
        "        self._dropout = nn.Dropout(p=0.5)\n",
        "        self._l1 = nn.Linear(400 * 5 * 3, 30)\n",
        "        self._loss_function = nn.CrossEntropyLoss()\n",
        "        self._optimizer = optim.Adam(self.parameters(), lr=5e-4)\n",
        "\n",
        "    def forward(self, x):\n",
        "        x = Variable(x)\n",
        "        if torch.cuda.is_available():\n",
        "            x = x.cuda()\n",
        "        x = self._conv1(x)\n",
        "        x = functional.relu(x)\n",
        "        x = functional.max_pool2d(x, kernel_size=2, stride=2)\n",
        "        x = self._dropout(x)\n",
        "        x = self._conv2(x)\n",
        "        x = functional.relu(x)\n",
        "        x = functional.max_pool2d(x, kernel_size=2, stride=2)\n",
        "        x = self._dropout(x)\n",
        "        x = self._conv3(x)\n",
        "        x = functional.relu(x)\n",
        "        x = functional.max_pool2d(x, kernel_size=2, stride=2)\n",
        "        x = self._dropout(x)\n",
        "        x = self._conv4(x)\n",
        "        x = functional.relu(x)\n",
        "        x = functional.max_pool2d(x, kernel_size=2, stride=2)\n",
        "        x = self._dropout(x)\n",
        "        x = self._conv5(x)\n",
        "        x = functional.relu(x)\n",
        "        x = functional.max_pool2d(x, kernel_size=2, stride=2)\n",
        "        x = self._dropout(x)\n",
        "        x = x.view(x.size(0), -1)\n",
        "        x = self._l1(x)\n",
        "        return x\n",
        "\n",
        "    def train_example(self, vectors_batch, labels_batch):\n",
        "        vectors_batch = Variable(vectors_batch)\n",
        "        labels_batch = Variable(labels_batch)\n",
        "        if torch.cuda.is_available():\n",
        "            vectors_batch = vectors_batch.cuda()\n",
        "            labels_batch = labels_batch.cuda()\n",
        "        self._optimizer.zero_grad()\n",
        "        ys = self(vectors_batch)\n",
        "        loss = self._loss_function(ys, labels_batch)\n",
        "        loss.backward()\n",
        "        self._optimizer.step()\n"
      ],
      "execution_count": 0,
      "outputs": []
    },
    {
      "cell_type": "code",
      "metadata": {
        "id": "SF0esBEAwWVy",
        "colab_type": "code",
        "outputId": "096dc946-7f3f-443b-8635-f9d97845c8e8",
        "colab": {
          "base_uri": "https://localhost:8080/",
          "height": 129
        }
      },
      "source": [
        "    \n",
        "import os\n",
        "\n",
        "import torch.cuda\n",
        "import torch.utils.data\n",
        "import tqdm\n",
        "from torch.autograd import Variable\n",
        "\n",
        "from gcommand_loader import GCommandLoader\n",
        "from network import Network\n",
        "\n",
        "TRAINING_BATCH_SIZE = 100\n",
        "TESTING_BATCH_SIZE = 100\n",
        "\n",
        "NUMBER_OF_EPOCHS = 20\n",
        "ACCURACY_CHECK_SIZE = 5000\n",
        "\n",
        "\n",
        "def main():\n",
        "  model = Network()\n",
        "  if torch.cuda.is_available():\n",
        "    model.cuda()\n",
        "  train_loader = torch.utils.data.DataLoader(GCommandLoader('./data/train'), batch_size=TRAINING_BATCH_SIZE, shuffle=True,\n",
        "                                             num_workers=4, pin_memory=True, sampler=None)\n",
        "\n",
        "  validation_loader = torch.utils.data.DataLoader(GCommandLoader('./data/valid'), batch_size=TESTING_BATCH_SIZE, shuffle=True,\n",
        "                                                  num_workers=4, pin_memory=True, sampler=None)\n",
        "\n",
        "  gc_test_loader = GCommandLoader('./data/test')\n",
        "  test_loader = torch.utils.data.DataLoader(gc_test_loader, batch_size=TESTING_BATCH_SIZE, shuffle=False,\n",
        "                                            num_workers=4, pin_memory=True, sampler=None)\n",
        "\n",
        "  for i in range(NUMBER_OF_EPOCHS):\n",
        "      print(\"{}/{}\".format(i+1, NUMBER_OF_EPOCHS))\n",
        "      model.train()\n",
        "      for vector_batch, label_batch in tqdm.tqdm(train_loader, total=len(train_loader), unit_scale=TRAINING_BATCH_SIZE):\n",
        "          model.train_example(vector_batch, label_batch)\n",
        "      model.eval()\n",
        "      print(evaluate(model, train_loader))\n",
        "      print(evaluate(model, validation_loader))\n",
        "\n",
        "  model.eval()\n",
        "  all_predictions = []\n",
        "  for vectors_batch, _ in test_loader:\n",
        "      outputs = model(vectors_batch)\n",
        "      _, predictions = torch.max(outputs.data, 1)\n",
        "      all_predictions.extend(predictions)\n",
        "\n",
        "  with open(\"test_y\", \"w\") as f:\n",
        "      for spect, prediction in zip(gc_test_loader.spects, all_predictions):\n",
        "          f.write(\"{}, {}\".format(os.path.basename(spect[0]), str(prediction.item())))\n",
        "          f.write(os.linesep)\n",
        "\n",
        "\n",
        "def evaluate(model, loader):\n",
        "  total = 0\n",
        "  correct = 0\n",
        "\n",
        "  for vectors, labels in loader:\n",
        "      labels = Variable(labels)\n",
        "      if torch.cuda.is_available():\n",
        "          labels = labels.cuda()\n",
        "      outputs = model(vectors)\n",
        "      _, predicted = torch.max(outputs.data, 1)\n",
        "      total += labels.size(0)\n",
        "      correct += (predicted == labels).sum().item()\n",
        "      if total >= ACCURACY_CHECK_SIZE:\n",
        "          return correct / total\n",
        "\n",
        "if __name__ == '__main__':\n",
        "  main()"
      ],
      "execution_count": 0,
      "outputs": [
        {
          "output_type": "error",
          "ename": "IndentationError",
          "evalue": "ignored",
          "traceback": [
            "\u001b[0;36m  File \u001b[0;32m\"<ipython-input-15-64c284d860b2>\"\u001b[0;36m, line \u001b[0;32m22\u001b[0m\n\u001b[0;31m    model.cuda()\u001b[0m\n\u001b[0m                ^\u001b[0m\n\u001b[0;31mIndentationError\u001b[0m\u001b[0;31m:\u001b[0m expected an indented block\n"
          ]
        }
      ]
    },
    {
      "cell_type": "code",
      "metadata": {
        "id": "V46ScuGlOplu",
        "colab_type": "code",
        "colab": {}
      },
      "source": [
        "def get_data():\n",
        "    train_dataset = GCommandLoader('./ML4_dataset/data/train')\n",
        "    train_data = torch.utils.data.DataLoader(\n",
        "        train_dataset, batch_size=100, shuffle=True,\n",
        "        num_workers=20, pin_memory=True, sampler=None)\n",
        "\n",
        "    valid_dataset = GCommandLoader('./ML4_dataset/data/valid')\n",
        "    validation_data = torch.utils.data.DataLoader(\n",
        "        valid_dataset, batch_size=100, shuffle=True,\n",
        "        num_workers=20, pin_memory=True, sampler=None)\n",
        "\n",
        "    return train_data, validation_data"
      ],
      "execution_count": 0,
      "outputs": []
    },
    {
      "cell_type": "code",
      "metadata": {
        "id": "PD4S4w1IELcb",
        "colab_type": "code",
        "colab": {}
      },
      "source": [
        "def test_data(data, model):\n",
        "    counter = 0\n",
        "    for x, y in data:\n",
        "        print(y)\n",
        "        y_pred = np.argmax(list(model.forward(x)))\n",
        "        print(y_pred)\n",
        "        y = int(y.astype(np.float))\n",
        "        if y == y_pred:\n",
        "            counter += 1\n",
        "    print(\"accuracy is : \" + str(counter / len(data)))"
      ],
      "execution_count": 0,
      "outputs": []
    },
    {
      "cell_type": "code",
      "metadata": {
        "id": "yl58qxeBEORi",
        "colab_type": "code",
        "colab": {}
      },
      "source": [
        "class Model(nn.Module):\n",
        "    def __init__(self, h1_dim, h2_dim):\n",
        "        super(Model, self).__init__()\n",
        "        self.first_layer = nn.Linear(input_dim, h1_dim)\n",
        "        self.second_layer = nn.Linear(h1_dim, h2_dim)\n",
        "        self.output_layer = nn.Linear(h2_dim, output_dim)\n",
        "        self.act_func = nn.ReLU()\n",
        "\n",
        "    def forward(self, input):\n",
        "        x = self.act_func(self.first_layer)\n",
        "        x = self.act_func(self.second_layer)\n",
        "        x = self.act_func(self.output_layer)\n",
        "        return x"
      ],
      "execution_count": 0,
      "outputs": []
    }
  ]
}