{
  "nbformat": 4,
  "nbformat_minor": 0,
  "metadata": {
    "colab": {
      "name": "ex4.ipynb",
      "version": "0.3.2",
      "provenance": [],
      "collapsed_sections": [],
      "include_colab_link": true
    },
    "kernelspec": {
      "name": "python3",
      "display_name": "Python 3"
    }
  },
  "cells": [
    {
      "cell_type": "markdown",
      "metadata": {
        "id": "view-in-github",
        "colab_type": "text"
      },
      "source": [
        "<a href=\"https://colab.research.google.com/github/regevDavid/Machine-Learning/blob/master/ex4.ipynb\" target=\"_parent\"><img src=\"https://colab.research.google.com/assets/colab-badge.svg\" alt=\"Open In Colab\"/></a>"
      ]
    },
    {
      "cell_type": "code",
      "metadata": {
        "id": "-ChI_AZ6JHVe",
        "colab_type": "code",
        "colab": {}
      },
      "source": [
        "!pip install torch\n",
        "!pip install soundfile\n",
        "!pip install librosa\n",
        "!git clone https://github.com/orsanawwad/ML4_dataset.git"
      ],
      "execution_count": 0,
      "outputs": []
    },
    {
      "cell_type": "code",
      "metadata": {
        "id": "qrOmMXriJSU7",
        "colab_type": "code",
        "colab": {}
      },
      "source": [
        "from gcommand_loader import GCommandLoader\n",
        "import torch\n",
        "\n",
        "\n"
      ],
      "execution_count": 0,
      "outputs": []
    },
    {
      "cell_type": "code",
      "metadata": {
        "id": "V46ScuGlOplu",
        "colab_type": "code",
        "colab": {}
      },
      "source": [
        "dataset = GCommandLoader('./ML4_dataset/data/train')\n",
        "\n",
        "\n",
        "\n",
        "test_loader = torch.utils.data.DataLoader(\n",
        "        dataset, batch_size=100, shuffle=None,\n",
        "        num_workers=20, pin_memory=True, sampler=None)\n",
        "\n",
        "for k, (input,label) in enumerate(test_loader):\n",
        "    print(input)\n"
      ],
      "execution_count": 0,
      "outputs": []
    }
  ]
}